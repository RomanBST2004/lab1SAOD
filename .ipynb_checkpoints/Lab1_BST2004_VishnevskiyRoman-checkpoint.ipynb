{
 "cells": [
  {
   "cell_type": "markdown",
   "id": "ec0ed799",
   "metadata": {},
   "source": [
    "# Лабораторная работа №1 «Методы сортировки»\n",
    "## Выполнил студент группы БСТ2004 Вишневский Роман Дмитриевич, Вариант №2\n",
    "### Цель работы: изучение основы синтаксиса Python — генерация, вывод, сортировка матриц и замер времени выполнения алгоритма"
   ]
  },
  {
   "cell_type": "markdown",
   "id": "d3c0e8ec",
   "metadata": {},
   "source": [
    "### Задание №1\n",
    "Вывести текст Hello, World!"
   ]
  },
  {
   "cell_type": "code",
   "execution_count": 1,
   "id": "03110302",
   "metadata": {},
   "outputs": [
    {
     "name": "stdout",
     "output_type": "stream",
     "text": [
      "Hello, World!\n"
     ]
    }
   ],
   "source": [
    "print(\"Hello, World!\")"
   ]
  },
  {
   "cell_type": "markdown",
   "id": "6d6d5442",
   "metadata": {},
   "source": [
    "### Задание №2\n",
    "Написать генератор случайных матриц(многомерных), который принимает           \n",
    "опциональные параметры m, n, min_limit, max_limit, где m и n указывают размер                       \n",
    "матрицы, а min_lim и max_lim - минимальное и максимальное значение для                     \n",
    "генерируемого числа . По умолчанию при отсутствии параметров принимать следующие                   \n",
    "значения: \n",
    "m = 50 \n",
    "n = 50 \n",
    "min_limit = -250  \n",
    "max_limit = 1000 + (номер своего варианта) "
   ]
  },
  {
   "cell_type": "code",
   "execution_count": 2,
   "id": "6437ade5",
   "metadata": {
    "scrolled": false
   },
   "outputs": [
    {
     "name": "stdout",
     "output_type": "stream",
     "text": [
      "m = 5\n",
      "n = 6\n",
      "min_lim = -250\n",
      "max_lim = 1002\n",
      "Initial array:\n",
      "457 381 -1 318 727 673 \n",
      "693 471 220 923 766 633 \n",
      "543 15 497 413 134 776 \n",
      "429 678 375 475 357 -225 \n",
      "648 970 635 934 251 44 \n"
     ]
    }
   ],
   "source": [
    "import random # импорт библиотеки для генерации случайных чисел\n",
    "import time # импорт библиотеки для проведения замеров\n",
    "rows = int(input('m = ')) # ввод количества строк матрицы\n",
    "columns = int(input('n = ')) # ввод количества строк матрицы\n",
    "min_lim = int(input('min_lim = ')) # ввод минимального порога элементов матрицы\n",
    "max_lim = int(input('max_lim = ')) # ввод максимального порога элементов матрицы\n",
    "if (rows == 0 and columns == 0 and min_lim == 0 and max_lim == 0): # переход к изначальным данным, если все инпуты - 0\n",
    "    rows = 50\n",
    "    columns = 50 \n",
    "    min_lim = -250\n",
    "    max_lim = 1000+2\n",
    "array = [[random.randint(min_lim, max_lim) for j in range(columns)] for i in range(rows)] # генерация двумерного массива\n",
    "def printMatrix(array): # функция для вывода матрицы\n",
    "    for i in array:\n",
    "        for j in i:\n",
    "            print(j, end = ' ')\n",
    "        print()\n",
    "print('Initial array:')\n",
    "printMatrix(array)"
   ]
  },
  {
   "cell_type": "markdown",
   "id": "537a55bc",
   "metadata": {},
   "source": [
    "### Задание №3\n",
    "Реализовать методы сортировки строк числовой матрицы в соответствии с                 \n",
    "заданием. Оценить время работы каждого алгоритма сортировки и сравнить его со                     \n",
    "временем стандартной функции сортировки. Испытания проводить на сгенерированных               \n",
    "матрицах. \n",
    "Методы: Выбором, Вставкой, Обменом, Шелла, Турнирная, Быстрая сортировка, Пирамидальная "
   ]
  },
  {
   "cell_type": "code",
   "execution_count": 3,
   "id": "fb866dc9",
   "metadata": {
    "scrolled": false
   },
   "outputs": [
    {
     "name": "stdout",
     "output_type": "stream",
     "text": [
      "Initial array:\n",
      "129 405 292 343 894 730 \n",
      "975 142 -113 187 875 294 \n",
      "146 537 579 309 -82 -211 \n",
      "354 151 882 477 777 94 \n",
      "434 -172 323 806 -134 -161 \n",
      "Sorted array is:\n",
      "129 292 343 405 730 894 \n",
      "-113 142 187 294 875 975 \n",
      "-211 -82 146 309 537 579 \n",
      "94 151 354 477 777 882 \n",
      "-172 -161 -134 323 434 806 \n",
      "--- 0.0 seconds ---\n"
     ]
    }
   ],
   "source": [
    "# СОРТИРОВКА ВЫБОРОМ\n",
    "start_time = time.time()\n",
    "def selection_sort(array): # функция, принимающая на вход массив \n",
    "    for i in range(0, len(array) - 1): # цикл, который будет проводить итерации от 0 до длины списка-1\n",
    "        smallest = i # переменная, хранящая индекс наименьшего элемента\n",
    "        for j in range(i + 1, len(array)):\n",
    "            if array[j] < array[smallest]:\n",
    "                smallest = j\n",
    "        array[i], array[smallest] = array[smallest], array[i]#обмен значений между элементами без временной переменной\n",
    "array = [[random.randint(min_lim, max_lim) for j in range(columns)] for i in range(rows)]\n",
    "print('Initial array:')\n",
    "printMatrix(array)\n",
    "for row in range(len(array)):  # поскольку изначально функция определена для одномерных массивов, \n",
    "    selection_sort(array[row]) # будем \"загонять\" в неё нашу матрицу построчно с помощью цикла\n",
    "print (\"Sorted array is:\")\n",
    "printMatrix(array)\n",
    "print(\"--- %s seconds ---\" % (time.time() - start_time))"
   ]
  },
  {
   "cell_type": "code",
   "execution_count": 4,
   "id": "7435912d",
   "metadata": {
    "scrolled": true
   },
   "outputs": [
    {
     "name": "stdout",
     "output_type": "stream",
     "text": [
      "Initial array:\n",
      "818 479 278 -9 -65 -117 \n",
      "532 62 669 296 433 59 \n",
      "134 924 533 -189 327 920 \n",
      "764 890 38 275 35 408 \n",
      "295 243 720 983 -110 290 \n",
      "Sorted array is:\n",
      "-117 -65 -9 278 479 818 \n",
      "59 62 296 433 532 669 \n",
      "-189 134 327 533 920 924 \n",
      "35 38 275 408 764 890 \n",
      "-110 243 290 295 720 983 \n",
      "--- 0.015637636184692383 seconds ---\n"
     ]
    }
   ],
   "source": [
    "# СОРТИРОВКА ВСТАВКОЙ \n",
    "start_time = time.time()\n",
    "def insertion_sort(array): # функция, принимающая на вход массив \n",
    "        for i in range(1, len(array)): # внешний цикл с итерациями от 1 до длины списка\n",
    " \n",
    "            value = array[i] # сохранение значения элемента массива в переменную\n",
    "            j = i - 1 # сохранение индекса предыдущего элемента\n",
    "            while j >= 0 and value < array[j]: # проверка j>=0 и что он меньше первого элемента\n",
    "                array[j + 1] = array[j] # обмен\n",
    "                j -= 1 \n",
    "            array[j + 1] = value \n",
    "        return array \n",
    "array = [[random.randint(min_lim, max_lim) for j in range(columns)] for i in range(rows)]\n",
    "print('Initial array:')\n",
    "printMatrix(array)\n",
    "for row in range(len(array)):\n",
    "     insertion_sort(array[row])\n",
    "print (\"Sorted array is:\")\n",
    "printMatrix(array)\n",
    "print(\"--- %s seconds ---\" % (time.time() - start_time))"
   ]
  },
  {
   "cell_type": "code",
   "execution_count": 5,
   "id": "7ae43c5f",
   "metadata": {
    "scrolled": true
   },
   "outputs": [
    {
     "name": "stdout",
     "output_type": "stream",
     "text": [
      "Initial array:\n",
      "157 317 531 459 389 -183 \n",
      "136 650 178 848 997 487 \n",
      "211 176 837 265 6 506 \n",
      "-225 246 895 53 -4 -169 \n",
      "833 468 51 115 172 235 \n",
      "Sorted array is:\n",
      "-183 157 317 389 459 531 \n",
      "136 178 487 650 848 997 \n",
      "6 176 211 265 506 837 \n",
      "-225 -169 -4 53 246 895 \n",
      "51 115 172 235 468 833 \n",
      "--- 0.0 seconds ---\n"
     ]
    }
   ],
   "source": [
    "# СОРТИРОВКА ОБМЕНОМ (ПУЗЫРЬКОМ)\n",
    "start_time = time.time()\n",
    "def bubble(array):\n",
    "    N = len(array) # определение длины массива в переменную\n",
    "    for i in range(N-1): # внешний цикл по полному списку\n",
    "        for j in range(N-i-1): # цикл для сравнения двух элементов\n",
    "            if array[j] > array[j+1]: # проверка того, что текущий элемент больше следующего\n",
    "                temp = array[j] # обмен значений между элементами с использованием временной переменной\n",
    "                array[j] = array[j+1]\n",
    "                array[j+1] = temp\n",
    "\n",
    "array = [[random.randint(min_lim, max_lim) for j in range(columns)] for i in range(rows)]\n",
    "print('Initial array:')\n",
    "printMatrix(array)\n",
    "\n",
    "for row in range(len(array)):\n",
    "     bubble(array[row])\n",
    "        \n",
    "print (\"Sorted array is:\")\n",
    "printMatrix(array)\n",
    "print(\"--- %s seconds ---\" % (time.time() - start_time))"
   ]
  },
  {
   "cell_type": "code",
   "execution_count": 6,
   "id": "d2c3481e",
   "metadata": {},
   "outputs": [
    {
     "name": "stdout",
     "output_type": "stream",
     "text": [
      "Initial array:\n",
      "-214 250 115 -245 -18 779 \n",
      "-52 -88 971 -73 -144 251 \n",
      "463 702 127 421 -246 828 \n",
      "887 597 369 197 369 486 \n",
      "564 461 644 10 356 77 \n",
      "Sorted array is:\n",
      "-245 -214 -18 115 250 779 \n",
      "-144 -88 -73 -52 251 971 \n",
      "-246 127 421 463 702 828 \n",
      "197 369 369 486 597 887 \n",
      "10 77 356 461 564 644 \n",
      "--- 0.0 seconds ---\n"
     ]
    }
   ],
   "source": [
    "# СОРТИРОВКА ШЕЛЛА \n",
    "start_time = time.time()\n",
    "def shell(array):\n",
    "    gap = len(array) // 2 # переменная, отвечающая за диапазон сравнения между двумя элементами\n",
    "    while gap>0: # пока диапазон между двумя элементами больше нуля\n",
    "        for value in range(gap, len(array)): # цикл от значения диапазона до длины списка\n",
    "            current_value = array[value] # сохранение значения текущего элемента\n",
    "            current_position = value # сохранение индекса текущего элемента\n",
    "            while current_position >= gap and array[current_position - gap] > current_value: # пока значения индекса больше или равно gap, а элемент, сравниваемый с текущим значением - больше него \n",
    "                array[current_position] = array[current_position - gap] # обмен элементов местами                      \n",
    "                current_position -= gap\n",
    "                array[current_position] = current_value\n",
    "        gap //= 2 # деление gap нацело пополам\n",
    "    return array # возвращение отсортированного массива\n",
    "\n",
    "array = [[random.randint(min_lim, max_lim) for j in range(columns)] for i in range(rows)]\n",
    "print('Initial array:')\n",
    "printMatrix(array)\n",
    "\n",
    "for row in range(len(array)):\n",
    "     shell(array[row])\n",
    "        \n",
    "print(\"Sorted array is:\")\n",
    "printMatrix(array)\n",
    "print(\"--- %s seconds ---\" % (time.time() - start_time))"
   ]
  },
  {
   "cell_type": "code",
   "execution_count": 7,
   "id": "69d30cf5",
   "metadata": {
    "scrolled": true
   },
   "outputs": [
    {
     "name": "stdout",
     "output_type": "stream",
     "text": [
      "Initial array:\n",
      "704 272 331 -192 573 380 \n",
      "381 656 636 210 99 -242 \n",
      "205 514 368 530 508 402 \n",
      "-40 877 592 939 504 360 \n",
      "747 -172 638 -245 447 352 \n",
      "Sorted array is:\n",
      "[-192, 272, 331, 380, 573, 704]\n",
      "[-242, 99, 210, 381, 636, 656]\n",
      "[205, 368, 402, 508, 514, 530]\n",
      "[-40, 360, 504, 592, 877, 939]\n",
      "[-245, -172, 352, 447, 638, 747]\n",
      "--- 0.0 seconds ---\n"
     ]
    }
   ],
   "source": [
    "# БЫСТРАЯ СОРТИРОВКА    \n",
    "start_time = time.time()\n",
    "def quicksort(array):\n",
    "    if len(array) <= 1:\n",
    "        return array\n",
    "    else:\n",
    "        q = random.choice(array) # случайным образом выбираем опорный элемент\n",
    "        high_array = []\n",
    "        low_array = []\n",
    "        e_array = []\n",
    "        for n in array:\n",
    "            if n < q: # деление элементов массива на те, что больше опорного\n",
    "                high_array.append(n)\n",
    "            elif n > q: # деление элементов массива на те, что меньше опорного\n",
    "                low_array.append(n)\n",
    "            else: # при равенстве\n",
    "                e_array.append(n)\n",
    "        return quicksort(high_array) + e_array + quicksort(low_array) # возвращаем массив, складывая результаты\n",
    "\n",
    "\n",
    "array = [[random.randint(min_lim, max_lim) for j in range(columns)] for i in range(rows)]\n",
    "print('Initial array:')\n",
    "printMatrix(array)\n",
    "\n",
    "print(\"Sorted array is:\")\n",
    "for row in range(len(array)):\n",
    "    print(quicksort(array[row]))\n",
    "print(\"--- %s seconds ---\" % (time.time() - start_time))"
   ]
  },
  {
   "cell_type": "code",
   "execution_count": 8,
   "id": "292d67c5",
   "metadata": {
    "scrolled": false
   },
   "outputs": [
    {
     "name": "stdout",
     "output_type": "stream",
     "text": [
      "Initial array:\n",
      "-40 -219 549 719 349 149 \n",
      "866 323 931 601 -237 -153 \n",
      "993 637 110 -219 930 -217 \n",
      "-119 161 429 770 -65 911 \n",
      "761 975 -243 551 -85 561 \n",
      "Sorted array is:\n",
      "-219 -40 149 349 549 719 \n",
      "-237 -153 323 601 866 931 \n",
      "-219 -217 110 637 930 993 \n",
      "-119 -65 161 429 770 911 \n",
      "-243 -85 551 561 761 975 \n",
      "--- 0.0 seconds ---\n"
     ]
    }
   ],
   "source": [
    "# ПИРАМИДАЛЬНАЯ СОРТИРОВКА\n",
    "start_time = time.time()\n",
    "def heapify(array, n, i): # принимается на вход массив, его длина и индекс элемента\n",
    "    largest = i # наибольший \n",
    "    l = 2 * i + 1   # левый\n",
    "    r = 2 * i + 2   # правый элементы\n",
    "\n",
    "    if l < n and array[i] < array[l]: # проверка существует ли левый больший дочерний элемент\n",
    "        largest = l\n",
    "\n",
    "    if r < n and array[largest] < array[r]: # проверка существует ли правый больший дочерний элемент\n",
    "        largest = r\n",
    "\n",
    "    if largest != i:\n",
    "        array[i],array[largest] = array[largest],array[i] # обмен без временной переменной\n",
    "        heapify(array, n, largest)\n",
    "\n",
    "def heapSort(array): # на вход подаётся неотсортированный массив\n",
    "    n = len(array)\n",
    "    for i in range(n, -1, -1):\n",
    "        heapify(array, n, i)\n",
    "\n",
    "    for i in range(n-1, 0, -1): # извлекаем элементы один за другим\n",
    "        array[i], array[0] = array[0], array[i] # обмен \n",
    "        heapify(array, i, 0)\n",
    "\n",
    "\n",
    "array = [[random.randint(min_lim, max_lim) for j in range(columns)] for i in range(rows)]\n",
    "print('Initial array:')\n",
    "printMatrix(array)\n",
    "\n",
    "for row in range(len(array)):\n",
    "     heapSort(array[row])\n",
    "        \n",
    "print(\"Sorted array is:\")\n",
    "printMatrix(array)\n",
    "print(\"--- %s seconds ---\" % (time.time() - start_time))"
   ]
  },
  {
   "cell_type": "code",
   "execution_count": 9,
   "id": "7441310e",
   "metadata": {},
   "outputs": [
    {
     "name": "stdout",
     "output_type": "stream",
     "text": [
      "Initial array:\n",
      "979 763 288 -84 -210 681 \n",
      "161 66 708 530 833 -122 \n",
      "892 -66 436 985 54 484 \n",
      "-83 250 902 -204 378 -25 \n",
      "754 186 309 786 -214 92 \n",
      "Sorted array is:\n",
      "-210 -84 288 681 763 979 \n",
      "-122 66 161 530 708 833 \n",
      "-66 54 436 484 892 985 \n",
      "-204 -83 -25 250 378 902 \n",
      "-214 92 186 309 754 786 \n",
      "--- 0.01562809944152832 seconds ---\n"
     ]
    }
   ],
   "source": [
    "# ВСТРОЕННАЯ СОРТИРОВКА\n",
    "start_time = time.time()\n",
    "array = [[random.randint(min_lim, max_lim) for j in range(columns)] for i in range(rows)]\n",
    "print('Initial array:')\n",
    "printMatrix(array)\n",
    "\n",
    "for row in range(len(array)): \n",
    "    array[row].sort()\n",
    "        \n",
    "print(\"Sorted array is:\")\n",
    "printMatrix(array)\n",
    "print(\"--- %s seconds ---\" % (time.time() - start_time))"
   ]
  },
  {
   "cell_type": "markdown",
   "id": "cd01c1bd",
   "metadata": {},
   "source": [
    "### Оценка времени работы каждого алгоритма сортировки и стандартной функции сортировки\n",
    "| **Выбором**  |**Вставкой**| **Обменом** | **Шелла** | **Быстрая**| **Пирамидальная**| **Встроенная**  |\n",
    "|--------------|------------|-------------|-----------|------------|------------------|-----------------|\n",
    "| 0.010764     | 0.015571   | 0.003145    | 0.002999  | 0.001998   | 0.016573         | 0.001997 \n"
   ]
  },
  {
   "cell_type": "markdown",
   "id": "473a900f",
   "metadata": {},
   "source": [
    "### Вывод: были изучены основы синтаксиса Python — генерация, вывод, сортировка матриц и замер времени выполнения алгоритма"
   ]
  }
 ],
 "metadata": {
  "kernelspec": {
   "display_name": "Python 3 (ipykernel)",
   "language": "python",
   "name": "python3"
  },
  "language_info": {
   "codemirror_mode": {
    "name": "ipython",
    "version": 3
   },
   "file_extension": ".py",
   "mimetype": "text/x-python",
   "name": "python",
   "nbconvert_exporter": "python",
   "pygments_lexer": "ipython3",
   "version": "3.9.7"
  }
 },
 "nbformat": 4,
 "nbformat_minor": 5
}
